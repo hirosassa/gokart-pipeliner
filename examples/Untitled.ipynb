{
 "cells": [
  {
   "cell_type": "code",
   "execution_count": 1,
   "metadata": {},
   "outputs": [],
   "source": [
    "import luigi\n",
    "import gokart\n",
    "from gokart_pipeliner import GokartPipeliner\n",
    "\n",
    "\n",
    "class TaskA(gokart.TaskOnKart):\n",
    "    def run(self):\n",
    "        self.dump(['foo'])\n",
    "\n",
    "\n",
    "class TaskB(gokart.TaskOnKart):\n",
    "    target = gokart.TaskInstanceParameter()\n",
    "    text = luigi.Parameter()\n",
    "\n",
    "    def run(self):\n",
    "        x = self.load('target')\n",
    "        self.dump(x + [self.text])"
   ]
  },
  {
   "cell_type": "code",
   "execution_count": 2,
   "metadata": {},
   "outputs": [],
   "source": [
    "params = {'TaskB': {'text': 'bar'}}\n",
    "pipeline = [TaskA, TaskB]"
   ]
  },
  {
   "cell_type": "code",
   "execution_count": 3,
   "metadata": {},
   "outputs": [],
   "source": [
    "gp = GokartPipeliner()"
   ]
  },
  {
   "cell_type": "code",
   "execution_count": 5,
   "metadata": {},
   "outputs": [
    {
     "name": "stdout",
     "output_type": "stream",
     "text": [
      "//-----[dependence_tree]------\n",
      "\n",
      "└─-(COMPLETE) TaskB[72dc1de81821ea80254f9cd4b3bc7178]\n",
      "   └─-(COMPLETE) TaskA[7e31bf7e4ad5c840b21575526733d8f8]\n",
      "//----------------------------\n"
     ]
    }
   ],
   "source": [
    "gp.print_dependence_tree(pipeline)"
   ]
  },
  {
   "cell_type": "code",
   "execution_count": 4,
   "metadata": {},
   "outputs": [
    {
     "name": "stderr",
     "output_type": "stream",
     "text": [
      "/Users/vanquish/.pyenv/versions/3.6.8/lib/python3.6/site-packages/luigi/parameter.py:279: UserWarning: Parameter \"redis_host\" with value \"None\" is not of type string.\n",
      "  warnings.warn('Parameter \"{}\" with value \"{}\" is not of type string.'.format(param_name, param_value))\n",
      "/Users/vanquish/.pyenv/versions/3.6.8/lib/python3.6/site-packages/luigi/parameter.py:279: UserWarning: Parameter \"redis_port\" with value \"None\" is not of type string.\n",
      "  warnings.warn('Parameter \"{}\" with value \"{}\" is not of type string.'.format(param_name, param_value))\n",
      "DEBUG: Checking if TaskB(redis_timeout=180, target=TaskA(7e31bf7e4ad5c840b21575526733d8f8)) is complete\n",
      "DEBUG: Checking if TaskA(redis_timeout=180) is complete\n",
      "INFO: Informed scheduler that task   TaskB_180___type____TaskA__cf0191a7a9   has status   PENDING\n",
      "INFO: Informed scheduler that task   TaskA_180_322ece4224   has status   PENDING\n",
      "INFO: Done scheduling tasks\n",
      "INFO: Running Worker with 1 processes\n",
      "DEBUG: Asking scheduler for work...\n",
      "DEBUG: Pending tasks: 2\n",
      "INFO: [pid 89331] Worker Worker(salt=815736315, workers=1, host=shunsukenoMacBook-Air.local, username=vanquish, pid=89331) running   TaskA(redis_timeout=180)\n",
      "INFO: [pid 89331] Worker Worker(salt=815736315, workers=1, host=shunsukenoMacBook-Air.local, username=vanquish, pid=89331) done      TaskA(redis_timeout=180)\n",
      "DEBUG: 1 running tasks, waiting for next task to finish\n",
      "INFO: Informed scheduler that task   TaskA_180_322ece4224   has status   DONE\n",
      "DEBUG: Asking scheduler for work...\n",
      "DEBUG: Pending tasks: 1\n",
      "INFO: [pid 89331] Worker Worker(salt=815736315, workers=1, host=shunsukenoMacBook-Air.local, username=vanquish, pid=89331) running   TaskB(redis_timeout=180, target=TaskA(7e31bf7e4ad5c840b21575526733d8f8))\n",
      "INFO: [pid 89331] Worker Worker(salt=815736315, workers=1, host=shunsukenoMacBook-Air.local, username=vanquish, pid=89331) done      TaskB(redis_timeout=180, target=TaskA(7e31bf7e4ad5c840b21575526733d8f8))\n",
      "DEBUG: 1 running tasks, waiting for next task to finish\n",
      "INFO: Informed scheduler that task   TaskB_180___type____TaskA__cf0191a7a9   has status   DONE\n",
      "DEBUG: Asking scheduler for work...\n",
      "DEBUG: Done\n",
      "DEBUG: There are no more tasks to run at this time\n",
      "INFO: Worker Worker(salt=815736315, workers=1, host=shunsukenoMacBook-Air.local, username=vanquish, pid=89331) was stopped. Shutting down Keep-Alive thread\n",
      "INFO: \n",
      "===== Luigi Execution Summary =====\n",
      "\n",
      "Scheduled 2 tasks of which:\n",
      "* 2 ran successfully:\n",
      "    - 1 TaskA(...)\n",
      "    - 1 TaskB(...)\n",
      "\n",
      "This progress looks :) because there were no failed tasks or missing dependencies\n",
      "\n",
      "===== Luigi Execution Summary =====\n",
      "\n"
     ]
    }
   ],
   "source": [
    "gp.run(pipeline)"
   ]
  }
 ],
 "metadata": {
  "kernelspec": {
   "display_name": "Python 3",
   "language": "python",
   "name": "python3"
  },
  "language_info": {
   "codemirror_mode": {
    "name": "ipython",
    "version": 3
   },
   "file_extension": ".py",
   "mimetype": "text/x-python",
   "name": "python",
   "nbconvert_exporter": "python",
   "pygments_lexer": "ipython3",
   "version": "3.6.8"
  }
 },
 "nbformat": 4,
 "nbformat_minor": 4
}
